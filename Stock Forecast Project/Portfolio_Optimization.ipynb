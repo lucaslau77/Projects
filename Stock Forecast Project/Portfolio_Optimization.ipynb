{
  "nbformat": 4,
  "nbformat_minor": 0,
  "metadata": {
    "colab": {
      "name": "Portfolio_Optimization.ipynb",
      "provenance": [],
      "collapsed_sections": [],
      "authorship_tag": "ABX9TyPBrs1osGmsbnQc7Rw7L+Lw",
      "include_colab_link": true
    },
    "kernelspec": {
      "name": "python3",
      "display_name": "Python 3"
    },
    "language_info": {
      "name": "python"
    }
  },
  "cells": [
    {
      "cell_type": "markdown",
      "metadata": {
        "id": "view-in-github",
        "colab_type": "text"
      },
      "source": [
        "<a href=\"https://colab.research.google.com/github/lucaslau77/PO/blob/main/Portfolio_Optimization.ipynb\" target=\"_parent\"><img src=\"https://colab.research.google.com/assets/colab-badge.svg\" alt=\"Open In Colab\"/></a>"
      ]
    },
    {
      "cell_type": "code",
      "metadata": {
        "id": "b62Li1MXHyDn"
      },
      "source": [
        "pip install PyPortfolioOpt"
      ],
      "execution_count": null,
      "outputs": []
    },
    {
      "cell_type": "code",
      "metadata": {
        "id": "XHh7hDpaRMU9"
      },
      "source": [
        "pip install pulp"
      ],
      "execution_count": null,
      "outputs": []
    },
    {
      "cell_type": "code",
      "metadata": {
        "id": "W5-rxWUrP0HC"
      },
      "source": [
        "# Import libraries\n",
        "from pandas_datareader import data as web\n",
        "import pandas as pd\n",
        "import numpy as np\n",
        "from datetime import datetime\n",
        "import matplotlib.pyplot as plt\n",
        "plt.style.use('fivethirtyeight')\n",
        "\n",
        "from pypfopt.efficient_frontier import EfficientFrontier\n",
        "from pypfopt import risk_models\n",
        "from pypfopt import expected_returns"
      ],
      "execution_count": 25,
      "outputs": []
    },
    {
      "cell_type": "code",
      "metadata": {
        "id": "x-EqhVEEQQqr"
      },
      "source": [
        "# Get ticker symbols\n",
        "assets =  [\"WYNN\", \"CRM\", \"SWKS\"]\n",
        "# assets =  [\"CRSR\"]\n",
        "\n",
        "# Assign weights to each stock\n",
        "weights = np.array([0.1268, 0.1600, 0.3916])\n",
        "# weights = np.array([1])"
      ],
      "execution_count": 26,
      "outputs": []
    },
    {
      "cell_type": "code",
      "metadata": {
        "id": "SUvWlJ9iQTFu"
      },
      "source": [
        "# Get the portfolio starting date\n",
        "stockStartDate = '2013-01-01'\n",
        "\n",
        "# Get the portfolio ending date\n",
        "today = datetime.today().strftime('%Y-%m-%d')"
      ],
      "execution_count": 27,
      "outputs": []
    },
    {
      "cell_type": "code",
      "metadata": {
        "colab": {
          "base_uri": "https://localhost:8080/",
          "height": 450
        },
        "id": "r0tmO7yvQXgM",
        "outputId": "67c5f93c-e92e-4777-ef64-ffd2205ea3f0"
      },
      "source": [
        "# Create a dataframe to store the adjusted close price of stocks\n",
        "df = pd.DataFrame()\n",
        "\n",
        "# Store the adjusted close price of each stock into df\n",
        "for stock in assets:\n",
        "   df[stock] = web.DataReader(stock, data_source='yahoo', start=stockStartDate, end=today)['Adj Close']\n",
        "\n",
        "# Show the df\n",
        "df"
      ],
      "execution_count": 28,
      "outputs": [
        {
          "output_type": "execute_result",
          "data": {
            "text/html": [
              "<div>\n",
              "<style scoped>\n",
              "    .dataframe tbody tr th:only-of-type {\n",
              "        vertical-align: middle;\n",
              "    }\n",
              "\n",
              "    .dataframe tbody tr th {\n",
              "        vertical-align: top;\n",
              "    }\n",
              "\n",
              "    .dataframe thead th {\n",
              "        text-align: right;\n",
              "    }\n",
              "</style>\n",
              "<table border=\"1\" class=\"dataframe\">\n",
              "  <thead>\n",
              "    <tr style=\"text-align: right;\">\n",
              "      <th></th>\n",
              "      <th>WYNN</th>\n",
              "      <th>CRM</th>\n",
              "      <th>SWKS</th>\n",
              "    </tr>\n",
              "    <tr>\n",
              "      <th>Date</th>\n",
              "      <th></th>\n",
              "      <th></th>\n",
              "      <th></th>\n",
              "    </tr>\n",
              "  </thead>\n",
              "  <tbody>\n",
              "    <tr>\n",
              "      <th>2013-01-02</th>\n",
              "      <td>96.279900</td>\n",
              "      <td>42.792500</td>\n",
              "      <td>19.570084</td>\n",
              "    </tr>\n",
              "    <tr>\n",
              "      <th>2013-01-03</th>\n",
              "      <td>97.315514</td>\n",
              "      <td>42.177502</td>\n",
              "      <td>19.425457</td>\n",
              "    </tr>\n",
              "    <tr>\n",
              "      <th>2013-01-04</th>\n",
              "      <td>98.489761</td>\n",
              "      <td>42.402500</td>\n",
              "      <td>18.937344</td>\n",
              "    </tr>\n",
              "    <tr>\n",
              "      <th>2013-01-07</th>\n",
              "      <td>98.824097</td>\n",
              "      <td>42.244999</td>\n",
              "      <td>19.217558</td>\n",
              "    </tr>\n",
              "    <tr>\n",
              "      <th>2013-01-08</th>\n",
              "      <td>98.742554</td>\n",
              "      <td>42.492500</td>\n",
              "      <td>18.449221</td>\n",
              "    </tr>\n",
              "    <tr>\n",
              "      <th>...</th>\n",
              "      <td>...</td>\n",
              "      <td>...</td>\n",
              "      <td>...</td>\n",
              "    </tr>\n",
              "    <tr>\n",
              "      <th>2021-06-11</th>\n",
              "      <td>127.169998</td>\n",
              "      <td>240.309998</td>\n",
              "      <td>171.119995</td>\n",
              "    </tr>\n",
              "    <tr>\n",
              "      <th>2021-06-14</th>\n",
              "      <td>124.949997</td>\n",
              "      <td>246.259995</td>\n",
              "      <td>173.830002</td>\n",
              "    </tr>\n",
              "    <tr>\n",
              "      <th>2021-06-15</th>\n",
              "      <td>125.400002</td>\n",
              "      <td>242.580002</td>\n",
              "      <td>171.660004</td>\n",
              "    </tr>\n",
              "    <tr>\n",
              "      <th>2021-06-16</th>\n",
              "      <td>125.449997</td>\n",
              "      <td>242.389999</td>\n",
              "      <td>170.979996</td>\n",
              "    </tr>\n",
              "    <tr>\n",
              "      <th>2021-06-17</th>\n",
              "      <td>125.300003</td>\n",
              "      <td>244.429993</td>\n",
              "      <td>172.460007</td>\n",
              "    </tr>\n",
              "  </tbody>\n",
              "</table>\n",
              "<p>2130 rows × 3 columns</p>\n",
              "</div>"
            ],
            "text/plain": [
              "                  WYNN         CRM        SWKS\n",
              "Date                                          \n",
              "2013-01-02   96.279900   42.792500   19.570084\n",
              "2013-01-03   97.315514   42.177502   19.425457\n",
              "2013-01-04   98.489761   42.402500   18.937344\n",
              "2013-01-07   98.824097   42.244999   19.217558\n",
              "2013-01-08   98.742554   42.492500   18.449221\n",
              "...                ...         ...         ...\n",
              "2021-06-11  127.169998  240.309998  171.119995\n",
              "2021-06-14  124.949997  246.259995  173.830002\n",
              "2021-06-15  125.400002  242.580002  171.660004\n",
              "2021-06-16  125.449997  242.389999  170.979996\n",
              "2021-06-17  125.300003  244.429993  172.460007\n",
              "\n",
              "[2130 rows x 3 columns]"
            ]
          },
          "metadata": {
            "tags": []
          },
          "execution_count": 28
        }
      ]
    },
    {
      "cell_type": "code",
      "metadata": {
        "colab": {
          "base_uri": "https://localhost:8080/"
        },
        "id": "miOhhHi_QAsJ",
        "outputId": "3089c03e-7441-4c87-8dc1-37c85bbaa492"
      },
      "source": [
        "# Calculate the expected returns and the annualised sample covariance matrix of asset returns\n",
        "mu = expected_returns.mean_historical_return(df) # returns.mean() * 252\n",
        "S = risk_models.sample_cov(df) # Get the sample covariance matrix\n",
        "\n",
        "# Optimize for max sharpe ratio\n",
        "ef = EfficientFrontier(mu, S)\n",
        "weights = ef.max_sharpe() # Maximize the Sharpe ratio, and get the raw weights\n",
        "cleaned_weights = ef.clean_weights() \n",
        "print(cleaned_weights) # Note the weights may have some rounding error, meaning they may not add up exactly to 1 but should be close\n",
        "ef.portfolio_performance(verbose=True)"
      ],
      "execution_count": 29,
      "outputs": [
        {
          "output_type": "stream",
          "text": [
            "OrderedDict([('WYNN', 0.0), ('CRM', 0.45746), ('SWKS', 0.54254)])\n",
            "Expected annual return: 26.4%\n",
            "Annual volatility: 31.0%\n",
            "Sharpe Ratio: 0.79\n"
          ],
          "name": "stdout"
        },
        {
          "output_type": "execute_result",
          "data": {
            "text/plain": [
              "(0.2641887032375266, 0.310344059127536, 0.7868322142979292)"
            ]
          },
          "metadata": {
            "tags": []
          },
          "execution_count": 29
        }
      ]
    },
    {
      "cell_type": "code",
      "metadata": {
        "colab": {
          "base_uri": "https://localhost:8080/"
        },
        "id": "PNOA4CZ8RSeF",
        "outputId": "8a7d6e57-bd7e-4693-a9e0-ed6c12eb4efd"
      },
      "source": [
        "from pypfopt.discrete_allocation import DiscreteAllocation, get_latest_prices\n",
        "latest_prices = get_latest_prices(df)\n",
        "weights = cleaned_weights \n",
        "da = DiscreteAllocation(weights, latest_prices, total_portfolio_value=15000)\n",
        "allocation, leftover = da.lp_portfolio()\n",
        "print(\"Discrete allocation:\", allocation)\n",
        "print(\"Funds remaining: ${:.2f}\".format(leftover))"
      ],
      "execution_count": 30,
      "outputs": [
        {
          "output_type": "stream",
          "text": [
            "Discrete allocation: {'CRM': 28, 'SWKS': 47}\n",
            "Funds remaining: $50.34\n"
          ],
          "name": "stdout"
        }
      ]
    }
  ]
}